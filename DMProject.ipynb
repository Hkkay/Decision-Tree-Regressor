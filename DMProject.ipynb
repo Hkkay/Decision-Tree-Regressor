{
 "cells": [
  {
   "cell_type": "code",
   "execution_count": 49,
   "metadata": {},
   "outputs": [],
   "source": [
    "import numpy as np \n",
    "import pandas as pd \n",
    "import os \n",
    "import matplotlib.pyplot as plt \n",
    "import seaborn as sns \n",
    "from sklearn import tree\n",
    "from sklearn.preprocessing import LabelEncoder\n"
   ]
  },
  {
   "cell_type": "code",
   "execution_count": 2,
   "metadata": {},
   "outputs": [
    {
     "name": "stderr",
     "output_type": "stream",
     "text": [
      "C:\\Users\\HK\\anaconda3\\lib\\site-packages\\IPython\\core\\interactiveshell.py:3146: DtypeWarning: Columns (33,54) have mixed types.Specify dtype option on import or set low_memory=False.\n",
      "  has_raised = await self.run_ast_nodes(code_ast.body, cell_name,\n"
     ]
    }
   ],
   "source": [
    "\n",
    "df = pd.read_csv(r\"D:\\total_data.csv\", index_col=False, usecols=['host_is_superhost', 'host_listings_count', 'latitude', 'longitude',\n",
    "       'property_type', 'accommodates', 'bathrooms', 'bedrooms', 'beds',\n",
    "       'amenities', 'price', 'require_guest_profile_picture',\n",
    "       'require_guest_phone_verification', 'month', 'security_deposit','cleaning_fee'])"
   ]
  },
  {
   "cell_type": "code",
   "execution_count": 3,
   "metadata": {},
   "outputs": [
    {
     "data": {
      "text/plain": [
       "<bound method NDFrame.head of        host_is_superhost host_listings_count   latitude  longitude  \\\n",
       "0                      f                   2 -22.965919 -43.178962   \n",
       "1                      f                   1 -22.985698 -43.201935   \n",
       "2                      f                   3 -22.977117 -43.190454   \n",
       "3                      t                   1 -22.983024 -43.214270   \n",
       "4                      f                   1 -22.988165 -43.193588   \n",
       "...                  ...                 ...        ...        ...   \n",
       "784117                 f                   0 -22.982870 -43.220140   \n",
       "784118                 f                   2 -22.977930 -43.189500   \n",
       "784119                 f                   1 -22.925610 -43.361750   \n",
       "784120                 t                  54 -22.952230 -43.183550   \n",
       "784121                 f                   4 -22.970050 -43.187690   \n",
       "\n",
       "       property_type accommodates  bathrooms  bedrooms  beds  \\\n",
       "0        Condominium            5        1.0       2.0   2.0   \n",
       "1          Apartment            2        1.0       1.0   1.0   \n",
       "2          Apartment            3        1.0       1.0   2.0   \n",
       "3          Apartment            3        1.0       1.0   2.0   \n",
       "4          Apartment            3        1.5       1.0   2.0   \n",
       "...              ...          ...        ...       ...   ...   \n",
       "784117     Apartment            1        1.0       1.0   1.0   \n",
       "784118     Apartment            6        2.5       3.0   3.0   \n",
       "784119   Condominium            2        1.0       1.0   1.0   \n",
       "784120     Apartment            3        2.0       0.0   NaN   \n",
       "784121     Apartment            4        2.0       1.0   NaN   \n",
       "\n",
       "                                                amenities    price  \\\n",
       "0       {TV,\"Cable TV\",Internet,Wifi,\"Air conditioning...  $307.00   \n",
       "1       {TV,\"Cable TV\",Wifi,\"Air conditioning\",\"First ...  $233.00   \n",
       "2       {TV,\"Cable TV\",Internet,Wifi,\"Air conditioning...  $159.00   \n",
       "3       {TV,\"Cable TV\",Internet,Wifi,\"Air conditioning...  $253.00   \n",
       "4       {TV,\"Cable TV\",Internet,Wifi,\"Air conditioning...  $350.00   \n",
       "...                                                   ...      ...   \n",
       "784117  {Wifi,Kitchen,\"Smoke detector\",\"First aid kit\"...   $55.00   \n",
       "784118  {TV,Wifi,\"Air conditioning\",Kitchen,Elevator,E...  $653.00   \n",
       "784119  {Wifi,Kitchen,Elevator,Washer,Essentials,Iron,...  $132.00   \n",
       "784120  {TV,Wifi,\"Air conditioning\",Kitchen,\"Free park...  $198.00   \n",
       "784121  {TV,Wifi,Kitchen,Washer,\"First aid kit\",Essent...   $77.00   \n",
       "\n",
       "       security_deposit cleaning_fee require_guest_profile_picture  \\\n",
       "0                 $0.00      $311.00                             f   \n",
       "1               $889.00      $220.00                             f   \n",
       "2             $1,000.00      $220.00                             t   \n",
       "3                 $0.00       $78.00                             f   \n",
       "4               $971.00      $152.00                             t   \n",
       "...                 ...          ...                           ...   \n",
       "784117              NaN          NaN                             f   \n",
       "784118        $1,500.00      $120.00                             f   \n",
       "784119              NaN          NaN                             f   \n",
       "784120              NaN          NaN                             f   \n",
       "784121              NaN          NaN                             f   \n",
       "\n",
       "       require_guest_phone_verification  month  \n",
       "0                                     f    8.0  \n",
       "1                                     f    8.0  \n",
       "2                                     t    8.0  \n",
       "3                                     f    8.0  \n",
       "4                                     t    8.0  \n",
       "...                                 ...    ...  \n",
       "784117                                f    4.0  \n",
       "784118                                f    4.0  \n",
       "784119                                f    4.0  \n",
       "784120                                f    4.0  \n",
       "784121                                f    4.0  \n",
       "\n",
       "[784122 rows x 16 columns]>"
      ]
     },
     "execution_count": 3,
     "metadata": {},
     "output_type": "execute_result"
    }
   ],
   "source": [
    "df.head\n"
   ]
  },
  {
   "cell_type": "code",
   "execution_count": 4,
   "metadata": {},
   "outputs": [
    {
     "name": "stdout",
     "output_type": "stream",
     "text": [
      "Rows: 784122, Columns: 16\n"
     ]
    }
   ],
   "source": [
    "print(f'Rows: {df.shape[0]}, Columns: {df.shape[1]}')\n"
   ]
  },
  {
   "cell_type": "code",
   "execution_count": 5,
   "metadata": {},
   "outputs": [
    {
     "data": {
      "text/plain": [
       "host_is_superhost                      386\n",
       "host_listings_count                    386\n",
       "latitude                                 1\n",
       "longitude                                1\n",
       "property_type                            1\n",
       "accommodates                             1\n",
       "bathrooms                             1494\n",
       "bedrooms                               776\n",
       "beds                                  2335\n",
       "amenities                                1\n",
       "price                                    1\n",
       "security_deposit                    361064\n",
       "cleaning_fee                        269336\n",
       "require_guest_profile_picture            2\n",
       "require_guest_phone_verification         2\n",
       "month                                    2\n",
       "dtype: int64"
      ]
     },
     "execution_count": 5,
     "metadata": {},
     "output_type": "execute_result"
    }
   ],
   "source": [
    "df.isnull().sum()"
   ]
  },
  {
   "cell_type": "code",
   "execution_count": 6,
   "metadata": {},
   "outputs": [],
   "source": [
    "rows_before_drop = df.shape[0]\n",
    "df.drop(['security_deposit','cleaning_fee','require_guest_phone_verification','require_guest_profile_picture','latitude','longitude','host_is_superhost'], axis=1, inplace=True)"
   ]
  },
  {
   "cell_type": "markdown",
   "metadata": {},
   "source": [
    "#The colums Security_deposit and Cleaning_fee have a lot of null value and less significanct(Probably!) to our Decision Tree model. "
   ]
  },
  {
   "cell_type": "code",
   "execution_count": 7,
   "metadata": {
    "scrolled": true
   },
   "outputs": [
    {
     "data": {
      "text/plain": [
       "host_listings_count    0\n",
       "property_type          0\n",
       "accommodates           0\n",
       "bathrooms              0\n",
       "bedrooms               0\n",
       "beds                   0\n",
       "amenities              0\n",
       "price                  0\n",
       "month                  0\n",
       "dtype: int64"
      ]
     },
     "execution_count": 7,
     "metadata": {},
     "output_type": "execute_result"
    }
   ],
   "source": [
    "df.dropna(inplace=True)\n",
    "df.isnull().sum()"
   ]
  },
  {
   "cell_type": "code",
   "execution_count": 8,
   "metadata": {},
   "outputs": [
    {
     "data": {
      "text/plain": [
       "host_listings_count     object\n",
       "property_type           object\n",
       "accommodates            object\n",
       "bathrooms              float64\n",
       "bedrooms               float64\n",
       "beds                   float64\n",
       "amenities               object\n",
       "price                   object\n",
       "month                  float64\n",
       "dtype: object"
      ]
     },
     "execution_count": 8,
     "metadata": {},
     "output_type": "execute_result"
    }
   ],
   "source": [
    "df.dtypes"
   ]
  },
  {
   "cell_type": "markdown",
   "metadata": {},
   "source": [
    "As we can see the host_listing_count, accommodates and the price column which are generally either of the integer or float data type has an Object datatype. It is essential we typecast it to the integer datatype. In addition the Price would also have values like : '$200' '2,00,0000' which needs to be converted into a numeric string which would definitely improve the accuracy of the problem. "
   ]
  },
  {
   "cell_type": "code",
   "execution_count": 9,
   "metadata": {},
   "outputs": [
    {
     "data": {
      "text/plain": [
       "host_listings_count      int16\n",
       "property_type           object\n",
       "accommodates             int16\n",
       "bathrooms              float64\n",
       "bedrooms               float64\n",
       "beds                   float64\n",
       "amenities               object\n",
       "price                    int32\n",
       "month                    int32\n",
       "dtype: object"
      ]
     },
     "execution_count": 9,
     "metadata": {},
     "output_type": "execute_result"
    }
   ],
   "source": [
    "df['host_listings_count'] = df['host_listings_count'].astype(np.float32, copy=False)\n",
    "df['host_listings_count'] = df['host_listings_count'].astype(np.int16, copy=False)\n",
    "df['accommodates'] = df['accommodates'].astype(np.int16, copy=False)\n",
    "df['price'] = df['price'].str.replace('$', '', regex=False)\n",
    "df['price'] = df['price'].str.replace(',', '', regex=False)\n",
    "df['price'] = df['price'].astype(np.float32, copy=False)\n",
    "df['price'] = df['price'].astype(np.int32, copy=False)\n",
    "df['month'] = df['month'].astype(np.int32, copy=False)\n",
    "df.dtypes"
   ]
  },
  {
   "cell_type": "code",
   "execution_count": 10,
   "metadata": {},
   "outputs": [
    {
     "data": {
      "text/plain": [
       "1274.5"
      ]
     },
     "execution_count": 10,
     "metadata": {},
     "output_type": "execute_result"
    }
   ],
   "source": [
    "def outlier_limit(column):\n",
    "    qt = df[column].quantile([0.25,0.75])\n",
    "    upper = qt.values[1]\n",
    "    inter_quartile = upper-qt.values[0]\n",
    "    limit = upper + 1.5*(inter_quartile)\n",
    "    return limit\n",
    "\n",
    "outlier_limit('price')"
   ]
  },
  {
   "cell_type": "code",
   "execution_count": 13,
   "metadata": {},
   "outputs": [],
   "source": [
    "def box_plot(column):\n",
    "    fig, (ax1, ax2) = plt.subplots(1,2)\n",
    "    fig.set_size_inches(16,6)\n",
    "    _ = sns.boxplot(x=df[column], ax = ax1)\n",
    "    ax1.set_title(f'{column} boxplot')\n",
    "    ax2.set_title(f'Zooming in the {column} boxplot')\n",
    "    ax2.set_xlim((-0.1,1.1*outlier_limit(column)))\n",
    "    _ = sns.boxplot(x=df[column], ax = ax2)"
   ]
  },
  {
   "cell_type": "code",
   "execution_count": 14,
   "metadata": {},
   "outputs": [
    {
     "data": {
      "image/png": "[encoded data removed]",
      "text/plain": [
       "<Figure size 1152x432 with 2 Axes>"
      ]
     },
     "metadata": {
      "needs_background": "light"
     },
     "output_type": "display_data"
    }
   ],
   "source": [
    "column = 'host_listings_count'\n",
    "box_plot(column)"
   ]
  },
  {
   "cell_type": "code",
   "execution_count": 15,
   "metadata": {},
   "outputs": [],
   "source": [
    "pd.set_option('mode.chained_assignment', None)\n",
    "df = df[df['host_listings_count'] <= outlier_limit('host_listings_count')]\n",
    "df.loc[df['host_listings_count'] == 0.0, 'host_listings_count'] = 1.0"
   ]
  },
  {
   "cell_type": "code",
   "execution_count": 16,
   "metadata": {},
   "outputs": [
    {
     "data": {
      "text/plain": [
       "<Figure size 864x576 with 0 Axes>"
      ]
     },
     "metadata": {},
     "output_type": "display_data"
    },
    {
     "data": {
      "image/png": "[encoded data removed]",
      "text/plain": [
       "<Figure size 691.2x576 with 1 Axes>"
      ]
     },
     "metadata": {
      "needs_background": "light"
     },
     "output_type": "display_data"
    }
   ],
   "source": [
    "plt.figure(figsize=(12,8))\n",
    "ax = sns.displot(df['price'],kde=True,height=8, aspect=1.2)\n"
   ]
  },
  {
   "cell_type": "code",
   "execution_count": 17,
   "metadata": {},
   "outputs": [
    {
     "data": {
      "image/png": "[encoded data removed]",
      "text/plain": [
       "<Figure size 1152x432 with 2 Axes>"
      ]
     },
     "metadata": {
      "needs_background": "light"
     },
     "output_type": "display_data"
    }
   ],
   "source": [
    "box_plot('price')"
   ]
  },
  {
   "cell_type": "code",
   "execution_count": 18,
   "metadata": {},
   "outputs": [],
   "source": [
    "df = df[df['price'] <= outlier_limit('price')]"
   ]
  },
  {
   "cell_type": "code",
   "execution_count": 19,
   "metadata": {},
   "outputs": [
    {
     "data": {
      "text/plain": [
       "<Figure size 864x576 with 0 Axes>"
      ]
     },
     "metadata": {},
     "output_type": "display_data"
    },
    {
     "data": {
      "image/png": "[encoded data removed]",
      "text/plain": [
       "<Figure size 691.2x576 with 1 Axes>"
      ]
     },
     "metadata": {
      "needs_background": "light"
     },
     "output_type": "display_data"
    }
   ],
   "source": [
    "plt.figure(figsize=(12,8))\n",
    "ax = sns.displot(df['price'],kde=True,height=8, aspect=1.2)"
   ]
  },
  {
   "cell_type": "code",
   "execution_count": 20,
   "metadata": {},
   "outputs": [
    {
     "data": {
      "image/png": "[encoded data removed]",
      "text/plain": [
       "<Figure size 864x576 with 1 Axes>"
      ]
     },
     "metadata": {
      "needs_background": "light"
     },
     "output_type": "display_data"
    }
   ],
   "source": [
    "plt.figure(figsize=(12,8))\n",
    "x = df['property_type']\n",
    "ax = sns.countplot(x=x, data=df)\n",
    "ax.tick_params(axis='x', rotation=90)\n",
    "_ = ax.set_title('Distribution of property types')"
   ]
  },
  {
   "cell_type": "code",
   "execution_count": 21,
   "metadata": {},
   "outputs": [],
   "source": [
    "categories_to_append = ['Aparthotel', 'Earth house', 'Chalet', 'Cottage', 'Tiny house',\n",
    "                        'Boutique hotel', 'Hotel', 'Casa particular (Cuba)', 'Bungalow',\n",
    "                        'Nature lodge', 'Cabin', 'Castle', 'Treehouse', 'Island', 'Boat', 'Tent',\n",
    "                        'Resort', 'Hut', 'Campsite', 'Barn', 'Dorm', 'Camper/RV', 'Farm stay', 'Yurt',\n",
    "                        'Tipi', 'Pension (South Korea)', 'Dome house', 'Igloo', 'Casa particular',\n",
    "                        'Houseboat', 'Lighthouse', 'Plane', 'Train', 'Parking Space']\n",
    "\n",
    "for cat in categories_to_append:\n",
    "    df.loc[df['property_type'] == cat, 'property_type'] = 'Other'"
   ]
  },
  {
   "cell_type": "code",
   "execution_count": 22,
   "metadata": {},
   "outputs": [
    {
     "data": {
      "image/png": "[encoded data removed]",
      "text/plain": [
       "<Figure size 864x576 with 1 Axes>"
      ]
     },
     "metadata": {
      "needs_background": "light"
     },
     "output_type": "display_data"
    }
   ],
   "source": [
    "plt.figure(figsize=(12,8))\n",
    "x = df['property_type']\n",
    "ax = sns.countplot(x=x, data=df)\n",
    "ax.tick_params(axis='x', rotation=90)\n",
    "_ = ax.set_title('Distribution of property types')"
   ]
  },
  {
   "cell_type": "code",
   "execution_count": 23,
   "metadata": {},
   "outputs": [
    {
     "data": {
      "image/png": "[encoded data removed]",
      "text/plain": [
       "<Figure size 1152x432 with 2 Axes>"
      ]
     },
     "metadata": {
      "needs_background": "light"
     },
     "output_type": "display_data"
    }
   ],
   "source": [
    "box_plot('beds')"
   ]
  },
  {
   "cell_type": "code",
   "execution_count": 24,
   "metadata": {},
   "outputs": [],
   "source": [
    "df = df[df['beds'] <= outlier_limit('beds')]"
   ]
  },
  {
   "cell_type": "code",
   "execution_count": 25,
   "metadata": {},
   "outputs": [
    {
     "data": {
      "text/plain": [
       "array(['{TV,\"Cable TV\",Internet,Wifi,\"Air conditioning\",Kitchen,\"Paid parking off premises\",\"Smoking allowed\",Doorman,Elevator,\"Hot tub\",\"Family/kid friendly\",\"Suitable for events\",Essentials,\"24-hour check-in\",Hangers,\"Hair dryer\",Iron,\"Laptop friendly workspace\",\"Self check-in\",\"Building staff\",\"Private entrance\",\"Hot water\",\"Bed linens\",\"Luggage dropoff allowed\"}',\n",
       "       '{TV,\"Cable TV\",Wifi,\"Air conditioning\",\"First aid kit\",Essentials,Shampoo,Hangers,\"Hair dryer\",Iron,\"Laptop friendly workspace\",\"Hot water\",\"Bed linens\",\"Extra pillows and blankets\",\"Pocket wifi\",Microwave,\"Coffee maker\",Refrigerator,\"Dishes and silverware\",\"Beach essentials\"}',\n",
       "       '{TV,\"Cable TV\",Internet,Wifi,\"Air conditioning\",Kitchen,Doorman,Elevator,\"Buzzer/wireless intercom\",\"Family/kid friendly\",Hangers,\"Hair dryer\",Iron,\"Laptop friendly workspace\"}',\n",
       "       ...,\n",
       "       '{TV,Wifi,\"Air conditioning\",\"Free parking on premises\",\"Smoking allowed\",Elevator,\"Smoke detector\",\"Carbon monoxide detector\",Essentials,\"Hot water\"}',\n",
       "       '{Wifi,Pool,Kitchen,\"Paid parking off premises\",\"Smoking allowed\",Washer,Iron,\"Private living room\",\"Hot water\",Microwave,\"Coffee maker\",Refrigerator,\"Dishes and silverware\",\"Single level home\",\"BBQ grill\",\"Patio or balcony\"}',\n",
       "       '{Wifi,Kitchen,\"Smoke detector\",\"First aid kit\",Essentials,\"Lock on bedroom door\",Hangers}'],\n",
       "      dtype=object)"
      ]
     },
     "execution_count": 25,
     "metadata": {},
     "output_type": "execute_result"
    }
   ],
   "source": [
    "df['amenities'].unique()"
   ]
  },
  {
   "cell_type": "code",
   "execution_count": 26,
   "metadata": {},
   "outputs": [],
   "source": [
    "df['n_amenities'] = df['amenities'].str.split(',').apply(len)+1\n",
    "df['n_amenities'] = df['n_amenities'].astype('int')\n",
    "df.loc[df['amenities'] == '{}', 'n_amenities'] = df['n_amenities'].mode()\n",
    "df = df.drop('amenities', axis=1)"
   ]
  },
  {
   "cell_type": "code",
   "execution_count": 27,
   "metadata": {},
   "outputs": [
    {
     "data": {
      "image/png": "[encoded data removed]",
      "text/plain": [
       "<Figure size 1152x432 with 2 Axes>"
      ]
     },
     "metadata": {
      "needs_background": "light"
     },
     "output_type": "display_data"
    }
   ],
   "source": [
    "box_plot('n_amenities')"
   ]
  },
  {
   "cell_type": "code",
   "execution_count": 28,
   "metadata": {},
   "outputs": [],
   "source": [
    "df = df[df['n_amenities'] <= outlier_limit('n_amenities')]"
   ]
  },
  {
   "cell_type": "code",
   "execution_count": 29,
   "metadata": {},
   "outputs": [
    {
     "data": {
      "text/html": [
       "<div>\n",
       "<style scoped>\n",
       "    .dataframe tbody tr th:only-of-type {\n",
       "        vertical-align: middle;\n",
       "    }\n",
       "\n",
       "    .dataframe tbody tr th {\n",
       "        vertical-align: top;\n",
       "    }\n",
       "\n",
       "    .dataframe thead th {\n",
       "        text-align: right;\n",
       "    }\n",
       "</style>\n",
       "<table border=\"1\" class=\"dataframe\">\n",
       "  <thead>\n",
       "    <tr style=\"text-align: right;\">\n",
       "      <th></th>\n",
       "      <th>host_listings_count</th>\n",
       "      <th>property_type</th>\n",
       "      <th>accommodates</th>\n",
       "      <th>bathrooms</th>\n",
       "      <th>bedrooms</th>\n",
       "      <th>beds</th>\n",
       "      <th>price</th>\n",
       "      <th>month</th>\n",
       "      <th>n_amenities</th>\n",
       "    </tr>\n",
       "  </thead>\n",
       "  <tbody>\n",
       "    <tr>\n",
       "      <th>0</th>\n",
       "      <td>2</td>\n",
       "      <td>Condominium</td>\n",
       "      <td>5</td>\n",
       "      <td>1.0</td>\n",
       "      <td>2.0</td>\n",
       "      <td>2.0</td>\n",
       "      <td>307</td>\n",
       "      <td>8</td>\n",
       "      <td>26.0</td>\n",
       "    </tr>\n",
       "    <tr>\n",
       "      <th>1</th>\n",
       "      <td>1</td>\n",
       "      <td>Apartment</td>\n",
       "      <td>2</td>\n",
       "      <td>1.0</td>\n",
       "      <td>1.0</td>\n",
       "      <td>1.0</td>\n",
       "      <td>233</td>\n",
       "      <td>8</td>\n",
       "      <td>21.0</td>\n",
       "    </tr>\n",
       "    <tr>\n",
       "      <th>2</th>\n",
       "      <td>3</td>\n",
       "      <td>Apartment</td>\n",
       "      <td>3</td>\n",
       "      <td>1.0</td>\n",
       "      <td>1.0</td>\n",
       "      <td>2.0</td>\n",
       "      <td>159</td>\n",
       "      <td>8</td>\n",
       "      <td>15.0</td>\n",
       "    </tr>\n",
       "    <tr>\n",
       "      <th>3</th>\n",
       "      <td>1</td>\n",
       "      <td>Apartment</td>\n",
       "      <td>3</td>\n",
       "      <td>1.0</td>\n",
       "      <td>1.0</td>\n",
       "      <td>2.0</td>\n",
       "      <td>253</td>\n",
       "      <td>8</td>\n",
       "      <td>18.0</td>\n",
       "    </tr>\n",
       "    <tr>\n",
       "      <th>4</th>\n",
       "      <td>1</td>\n",
       "      <td>Apartment</td>\n",
       "      <td>3</td>\n",
       "      <td>1.5</td>\n",
       "      <td>1.0</td>\n",
       "      <td>2.0</td>\n",
       "      <td>350</td>\n",
       "      <td>8</td>\n",
       "      <td>32.0</td>\n",
       "    </tr>\n",
       "    <tr>\n",
       "      <th>...</th>\n",
       "      <td>...</td>\n",
       "      <td>...</td>\n",
       "      <td>...</td>\n",
       "      <td>...</td>\n",
       "      <td>...</td>\n",
       "      <td>...</td>\n",
       "      <td>...</td>\n",
       "      <td>...</td>\n",
       "      <td>...</td>\n",
       "    </tr>\n",
       "    <tr>\n",
       "      <th>149</th>\n",
       "      <td>5</td>\n",
       "      <td>House</td>\n",
       "      <td>3</td>\n",
       "      <td>1.0</td>\n",
       "      <td>1.0</td>\n",
       "      <td>2.0</td>\n",
       "      <td>51</td>\n",
       "      <td>8</td>\n",
       "      <td>6.0</td>\n",
       "    </tr>\n",
       "    <tr>\n",
       "      <th>151</th>\n",
       "      <td>1</td>\n",
       "      <td>Condominium</td>\n",
       "      <td>3</td>\n",
       "      <td>2.0</td>\n",
       "      <td>1.0</td>\n",
       "      <td>2.0</td>\n",
       "      <td>253</td>\n",
       "      <td>8</td>\n",
       "      <td>23.0</td>\n",
       "    </tr>\n",
       "    <tr>\n",
       "      <th>152</th>\n",
       "      <td>1</td>\n",
       "      <td>Apartment</td>\n",
       "      <td>3</td>\n",
       "      <td>1.0</td>\n",
       "      <td>1.0</td>\n",
       "      <td>1.0</td>\n",
       "      <td>427</td>\n",
       "      <td>8</td>\n",
       "      <td>11.0</td>\n",
       "    </tr>\n",
       "    <tr>\n",
       "      <th>153</th>\n",
       "      <td>1</td>\n",
       "      <td>Apartment</td>\n",
       "      <td>5</td>\n",
       "      <td>1.0</td>\n",
       "      <td>2.0</td>\n",
       "      <td>2.0</td>\n",
       "      <td>299</td>\n",
       "      <td>8</td>\n",
       "      <td>15.0</td>\n",
       "    </tr>\n",
       "    <tr>\n",
       "      <th>154</th>\n",
       "      <td>3</td>\n",
       "      <td>Apartment</td>\n",
       "      <td>2</td>\n",
       "      <td>1.0</td>\n",
       "      <td>1.0</td>\n",
       "      <td>1.0</td>\n",
       "      <td>210</td>\n",
       "      <td>8</td>\n",
       "      <td>40.0</td>\n",
       "    </tr>\n",
       "  </tbody>\n",
       "</table>\n",
       "<p>100 rows × 9 columns</p>\n",
       "</div>"
      ],
      "text/plain": [
       "     host_listings_count property_type  accommodates  bathrooms  bedrooms  \\\n",
       "0                      2   Condominium             5        1.0       2.0   \n",
       "1                      1     Apartment             2        1.0       1.0   \n",
       "2                      3     Apartment             3        1.0       1.0   \n",
       "3                      1     Apartment             3        1.0       1.0   \n",
       "4                      1     Apartment             3        1.5       1.0   \n",
       "..                   ...           ...           ...        ...       ...   \n",
       "149                    5         House             3        1.0       1.0   \n",
       "151                    1   Condominium             3        2.0       1.0   \n",
       "152                    1     Apartment             3        1.0       1.0   \n",
       "153                    1     Apartment             5        1.0       2.0   \n",
       "154                    3     Apartment             2        1.0       1.0   \n",
       "\n",
       "     beds  price  month  n_amenities  \n",
       "0     2.0    307      8         26.0  \n",
       "1     1.0    233      8         21.0  \n",
       "2     2.0    159      8         15.0  \n",
       "3     2.0    253      8         18.0  \n",
       "4     2.0    350      8         32.0  \n",
       "..    ...    ...    ...          ...  \n",
       "149   2.0     51      8          6.0  \n",
       "151   2.0    253      8         23.0  \n",
       "152   1.0    427      8         11.0  \n",
       "153   2.0    299      8         15.0  \n",
       "154   1.0    210      8         40.0  \n",
       "\n",
       "[100 rows x 9 columns]"
      ]
     },
     "execution_count": 29,
     "metadata": {},
     "output_type": "execute_result"
    }
   ],
   "source": [
    "df.head(100)"
   ]
  },
  {
   "cell_type": "code",
   "execution_count": 30,
   "metadata": {},
   "outputs": [],
   "source": [
    "df.drop(['host_listings_count'], axis=1, inplace=True)"
   ]
  },
  {
   "cell_type": "code",
   "execution_count": 31,
   "metadata": {},
   "outputs": [
    {
     "data": {
      "text/html": [
       "<div>\n",
       "<style scoped>\n",
       "    .dataframe tbody tr th:only-of-type {\n",
       "        vertical-align: middle;\n",
       "    }\n",
       "\n",
       "    .dataframe tbody tr th {\n",
       "        vertical-align: top;\n",
       "    }\n",
       "\n",
       "    .dataframe thead th {\n",
       "        text-align: right;\n",
       "    }\n",
       "</style>\n",
       "<table border=\"1\" class=\"dataframe\">\n",
       "  <thead>\n",
       "    <tr style=\"text-align: right;\">\n",
       "      <th></th>\n",
       "      <th>property_type</th>\n",
       "      <th>accommodates</th>\n",
       "      <th>bedrooms</th>\n",
       "      <th>price</th>\n",
       "      <th>month</th>\n",
       "      <th>n_amenities</th>\n",
       "    </tr>\n",
       "  </thead>\n",
       "  <tbody>\n",
       "    <tr>\n",
       "      <th>0</th>\n",
       "      <td>Condominium</td>\n",
       "      <td>5</td>\n",
       "      <td>2.0</td>\n",
       "      <td>307</td>\n",
       "      <td>8</td>\n",
       "      <td>26.0</td>\n",
       "    </tr>\n",
       "    <tr>\n",
       "      <th>1</th>\n",
       "      <td>Apartment</td>\n",
       "      <td>2</td>\n",
       "      <td>1.0</td>\n",
       "      <td>233</td>\n",
       "      <td>8</td>\n",
       "      <td>21.0</td>\n",
       "    </tr>\n",
       "    <tr>\n",
       "      <th>2</th>\n",
       "      <td>Apartment</td>\n",
       "      <td>3</td>\n",
       "      <td>1.0</td>\n",
       "      <td>159</td>\n",
       "      <td>8</td>\n",
       "      <td>15.0</td>\n",
       "    </tr>\n",
       "    <tr>\n",
       "      <th>3</th>\n",
       "      <td>Apartment</td>\n",
       "      <td>3</td>\n",
       "      <td>1.0</td>\n",
       "      <td>253</td>\n",
       "      <td>8</td>\n",
       "      <td>18.0</td>\n",
       "    </tr>\n",
       "    <tr>\n",
       "      <th>4</th>\n",
       "      <td>Apartment</td>\n",
       "      <td>3</td>\n",
       "      <td>1.0</td>\n",
       "      <td>350</td>\n",
       "      <td>8</td>\n",
       "      <td>32.0</td>\n",
       "    </tr>\n",
       "    <tr>\n",
       "      <th>...</th>\n",
       "      <td>...</td>\n",
       "      <td>...</td>\n",
       "      <td>...</td>\n",
       "      <td>...</td>\n",
       "      <td>...</td>\n",
       "      <td>...</td>\n",
       "    </tr>\n",
       "    <tr>\n",
       "      <th>149</th>\n",
       "      <td>House</td>\n",
       "      <td>3</td>\n",
       "      <td>1.0</td>\n",
       "      <td>51</td>\n",
       "      <td>8</td>\n",
       "      <td>6.0</td>\n",
       "    </tr>\n",
       "    <tr>\n",
       "      <th>151</th>\n",
       "      <td>Condominium</td>\n",
       "      <td>3</td>\n",
       "      <td>1.0</td>\n",
       "      <td>253</td>\n",
       "      <td>8</td>\n",
       "      <td>23.0</td>\n",
       "    </tr>\n",
       "    <tr>\n",
       "      <th>152</th>\n",
       "      <td>Apartment</td>\n",
       "      <td>3</td>\n",
       "      <td>1.0</td>\n",
       "      <td>427</td>\n",
       "      <td>8</td>\n",
       "      <td>11.0</td>\n",
       "    </tr>\n",
       "    <tr>\n",
       "      <th>153</th>\n",
       "      <td>Apartment</td>\n",
       "      <td>5</td>\n",
       "      <td>2.0</td>\n",
       "      <td>299</td>\n",
       "      <td>8</td>\n",
       "      <td>15.0</td>\n",
       "    </tr>\n",
       "    <tr>\n",
       "      <th>154</th>\n",
       "      <td>Apartment</td>\n",
       "      <td>2</td>\n",
       "      <td>1.0</td>\n",
       "      <td>210</td>\n",
       "      <td>8</td>\n",
       "      <td>40.0</td>\n",
       "    </tr>\n",
       "  </tbody>\n",
       "</table>\n",
       "<p>100 rows × 6 columns</p>\n",
       "</div>"
      ],
      "text/plain": [
       "    property_type  accommodates  bedrooms  price  month  n_amenities\n",
       "0     Condominium             5       2.0    307      8         26.0\n",
       "1       Apartment             2       1.0    233      8         21.0\n",
       "2       Apartment             3       1.0    159      8         15.0\n",
       "3       Apartment             3       1.0    253      8         18.0\n",
       "4       Apartment             3       1.0    350      8         32.0\n",
       "..            ...           ...       ...    ...    ...          ...\n",
       "149         House             3       1.0     51      8          6.0\n",
       "151   Condominium             3       1.0    253      8         23.0\n",
       "152     Apartment             3       1.0    427      8         11.0\n",
       "153     Apartment             5       2.0    299      8         15.0\n",
       "154     Apartment             2       1.0    210      8         40.0\n",
       "\n",
       "[100 rows x 6 columns]"
      ]
     },
     "execution_count": 31,
     "metadata": {},
     "output_type": "execute_result"
    }
   ],
   "source": [
    "df.head(100)"
   ]
  },
  {
   "cell_type": "code",
   "execution_count": 33,
   "metadata": {},
   "outputs": [
    {
     "data": {
      "text/plain": [
       "(571888, 6)"
      ]
     },
     "execution_count": 33,
     "metadata": {},
     "output_type": "execute_result"
    }
   ],
   "source": [
    "df.shape\n"
   ]
  },
  {
   "cell_type": "code",
   "execution_count": 34,
   "metadata": {},
   "outputs": [],
   "source": [
    "cols = list(df)"
   ]
  },
  {
   "cell_type": "code",
   "execution_count": 35,
   "metadata": {},
   "outputs": [
    {
     "data": {
      "text/plain": [
       "['property_type', 'accommodates', 'bedrooms', 'price', 'month', 'n_amenities']"
      ]
     },
     "execution_count": 35,
     "metadata": {},
     "output_type": "execute_result"
    }
   ],
   "source": [
    "cols\n"
   ]
  },
  {
   "cell_type": "code",
   "execution_count": 70,
   "metadata": {},
   "outputs": [
    {
     "name": "stdout",
     "output_type": "stream",
     "text": [
      "yes\n"
     ]
    }
   ],
   "source": [
    "df['month'].unique()\n",
    "if df['property_type'].dtypes == 'object':\n",
    "    print(\"yes\")"
   ]
  },
  {
   "cell_type": "code",
   "execution_count": null,
   "metadata": {},
   "outputs": [],
   "source": [
    "df2 = df.reindex(['property_type','accommodates','bedrooms','month','n_amenities','price'],axis=1)"
   ]
  },
  {
   "cell_type": "code",
   "execution_count": 42,
   "metadata": {},
   "outputs": [],
   "source": [
    "\n",
    "class Node():\n",
    "    def __init__(self, feature_index=None, threshold=None, left=None, right=None, var_red=None, value=None):\n",
    "        ''' constructor ''' \n",
    "        \n",
    "        # for decision node\n",
    "        self.feature_index = feature_index\n",
    "        self.threshold = threshold\n",
    "        self.left = left\n",
    "        self.right = right\n",
    "        self.var_red = var_red\n",
    "        \n",
    "        # for leaf node\n",
    "        self.value = value"
   ]
  },
  {
   "cell_type": "code",
   "execution_count": 43,
   "metadata": {},
   "outputs": [],
   "source": [
    "class DecisionTreeRegressor():\n",
    "    def __init__(self, min_samples_split=2, max_depth=2):\n",
    "        ''' constructor '''\n",
    "        \n",
    "        # initialize the root of the tree \n",
    "        self.root = None\n",
    "        \n",
    "        # stopping conditions\n",
    "        self.min_samples_split = min_samples_split\n",
    "        self.max_depth = max_depth\n",
    "        \n",
    "    def build_tree(self, dataset, curr_depth=0):\n",
    "        ''' recursive function to build the tree '''\n",
    "        \n",
    "        X, Y = dataset[:,:-1], dataset[:,-1]\n",
    "        num_samples, num_features = np.shape(X)\n",
    "        best_split = {}\n",
    "        # split until stopping conditions are met\n",
    "        if num_samples>=self.min_samples_split and curr_depth<=self.max_depth:\n",
    "            # find the best split\n",
    "            best_split = self.get_best_split(dataset, num_samples, num_features)\n",
    "            # check if information gain is positive\n",
    "            if best_split[\"var_red\"]>0:\n",
    "                # recur left\n",
    "                left_subtree = self.build_tree(best_split[\"dataset_left\"], curr_depth+1)\n",
    "                # recur right\n",
    "                right_subtree = self.build_tree(best_split[\"dataset_right\"], curr_depth+1)\n",
    "                # return decision node\n",
    "                return Node(best_split[\"feature_index\"], best_split[\"threshold\"], \n",
    "                            left_subtree, right_subtree, best_split[\"var_red\"])\n",
    "        \n",
    "        # compute leaf node\n",
    "        leaf_value = self.calculate_leaf_value(Y)\n",
    "        # return leaf node\n",
    "        return Node(value=leaf_value)\n",
    "    \n",
    "    def get_best_split(self, dataset, num_samples, num_features):\n",
    "        ''' function to find the best split '''\n",
    "        \n",
    "        # dictionary to store the best split\n",
    "        best_split = {}\n",
    "        max_var_red = -float(\"inf\")\n",
    "        # loop over all the features\n",
    "        for feature_index in range(num_features):\n",
    "            feature_values = dataset[:, feature_index]\n",
    "            possible_thresholds = np.unique(feature_values)\n",
    "            # loop over all the feature values present in the data\n",
    "            for threshold in possible_thresholds:\n",
    "                # get current split\n",
    "                dataset_left, dataset_right = self.split(dataset, feature_index, threshold)\n",
    "                # check if childs are not null\n",
    "                if len(dataset_left)>0 and len(dataset_right)>0:\n",
    "                    y, left_y, right_y = dataset[:, -1], dataset_left[:, -1], dataset_right[:, -1]\n",
    "                    # compute information gain\n",
    "                    curr_var_red = self.variance_reduction(y, left_y, right_y)\n",
    "                    # update the best split if needed\n",
    "                    if curr_var_red>max_var_red:\n",
    "                        best_split[\"feature_index\"] = feature_index\n",
    "                        best_split[\"threshold\"] = threshold\n",
    "                        best_split[\"dataset_left\"] = dataset_left\n",
    "                        best_split[\"dataset_right\"] = dataset_right\n",
    "                        best_split[\"var_red\"] = curr_var_red\n",
    "                        max_var_red = curr_var_red\n",
    "                        \n",
    "        # return best split\n",
    "        return best_split\n",
    "    \n",
    "    def split(self, dataset, feature_index, threshold):\n",
    "        #left will be (Condition == true), right will be(condition==false)\n",
    "        dataset_left = np.array([row for row in dataset if row[feature_index]<=threshold])\n",
    "        dataset_right = np.array([row for row in dataset if row[feature_index]>threshold])\n",
    "        return dataset_left, dataset_right\n",
    "    \n",
    "    def variance_reduction(self, parent, l_child, r_child):\n",
    "        #variance reduction is used as this a regression problem. \n",
    "        weight_l = len(l_child) / len(parent)\n",
    "        weight_r = len(r_child) / len(parent)\n",
    "        reduction = np.var(parent) - (weight_l * np.var(l_child) + weight_r * np.var(r_child))\n",
    "        return reduction\n",
    "    \n",
    "    def calculate_leaf_value(self, Y):\n",
    "        #since these are continuous values we store the mean of the price as the leaf node.\n",
    "        val = np.mean(Y)\n",
    "        return val\n",
    "                \n",
    "    def print_tree(self, tree=None, indent=\" \"):\n",
    "        #prints the tree in preorder traversal. \n",
    "        \n",
    "        if not tree:\n",
    "            tree = self.root\n",
    "\n",
    "        if tree.value is not None:\n",
    "            print(tree.value)\n",
    "\n",
    "        else:\n",
    "            print(\"X_\"+str(tree.feature_index), \"<=\", tree.threshold, \"?\", tree.var_red)\n",
    "            print(\"%sleft:\" % (indent), end=\"\")\n",
    "            self.print_tree(tree.left, indent + indent)\n",
    "            print(\"%sright:\" % (indent), end=\"\")\n",
    "            self.print_tree(tree.right, indent + indent)\n",
    "    \n",
    "    def fit(self, X, Y):\n",
    "        dataset = np.concatenate((X, Y), axis=1)\n",
    "        self.root = self.build_tree(dataset)\n",
    "        \n",
    "    def make_prediction(self, x, tree):\n",
    "        ''' function to predict new dataset '''\n",
    "        \n",
    "        if tree.value!=None: return tree.value\n",
    "        feature_val = x[tree.feature_index]\n",
    "        if feature_val<=tree.threshold:\n",
    "            return self.make_prediction(x, tree.left)\n",
    "        else:\n",
    "            return self.make_prediction(x, tree.right)\n",
    "    \n",
    "    def predict(self, X):\n",
    "        ''' function to predict a single data point '''\n",
    "        \n",
    "        preditions = [self.make_prediction(x, self.root) for x in X]\n",
    "        return preditions"
   ]
  },
  {
   "cell_type": "code",
   "execution_count": 114,
   "metadata": {},
   "outputs": [
    {
     "data": {
      "text/plain": [
       "0.0"
      ]
     },
     "execution_count": 114,
     "metadata": {},
     "output_type": "execute_result"
    }
   ],
   "source": [
    "#df2.drop(['property_type'], axis=1, inplace=True)\n",
    "df2.head()\n",
    "feature_values = df2['bedrooms'].unique()\n",
    "feature_values[2]\n"
   ]
  },
  {
   "cell_type": "code",
   "execution_count": 45,
   "metadata": {},
   "outputs": [],
   "source": [
    "X = df2.iloc[:, :-1].values\n",
    "Y = df2.iloc[:, -1].values.reshape(-1,1)\n",
    "from sklearn.model_selection import train_test_split\n",
    "X_train, X_test, Y_train, Y_test = train_test_split(X, Y, test_size=.2, random_state=41)"
   ]
  },
  {
   "cell_type": "code",
   "execution_count": 57,
   "metadata": {},
   "outputs": [
    {
     "name": "stdout",
     "output_type": "stream",
     "text": [
      "X_1 <= 1.0 ? 16864.823052567896\n",
      " left:X_0 <= 3.0 ? 1318.3812033804788\n",
      "  left:X_0 <= 1.0 ? 860.5639655638952\n",
      "    left:154.73334723235692\n",
      "    right:239.06099638248782\n",
      "  right:X_3 <= 19.0 ? 1814.8758311033089\n",
      "    left:340.9023158315033\n",
      "    right:252.91154268231853\n",
      " right:X_1 <= 2.0 ? 3679.5470389895054\n",
      "  left:X_3 <= 24.0 ? 2953.3052299923584\n",
      "    left:506.244063421442\n",
      "    right:373.48432528905096\n",
      "  right:X_3 <= 24.0 ? 2762.339819645247\n",
      "    left:639.0338131653921\n",
      "    right:514.1314027452294\n"
     ]
    }
   ],
   "source": [
    "\n",
    "regressor = DecisionTreeRegressor(min_samples_split=3, max_depth=2)\n",
    "regressor.fit(X_train,Y_train)\n",
    "regressor.print_tree()"
   ]
  },
  {
   "cell_type": "code",
   "execution_count": 58,
   "metadata": {
    "scrolled": true
   },
   "outputs": [
    {
     "data": {
      "text/plain": [
       "245.81001291707878"
      ]
     },
     "execution_count": 58,
     "metadata": {},
     "output_type": "execute_result"
    }
   ],
   "source": [
    "Y_pred = regressor.predict(X_test) \n",
    "from sklearn.metrics import mean_squared_error\n",
    "np.sqrt(mean_squared_error(Y_test, Y_pred))"
   ]
  },
  {
   "cell_type": "code",
   "execution_count": 59,
   "metadata": {},
   "outputs": [
    {
     "name": "stdout",
     "output_type": "stream",
     "text": [
      "X_1 <= 1.0 ? 16864.823052567896\n",
      " left:X_0 <= 3.0 ? 1318.3812033804788\n",
      "  left:X_0 <= 1.0 ? 860.5639655638952\n",
      "    left:X_3 <= 19.0 ? 111.05932795695117\n",
      "        left:160.46633944251812\n",
      "        right:135.36138161898964\n",
      "    right:X_3 <= 26.0 ? 464.108878367093\n",
      "        left:247.92939992937994\n",
      "        right:186.72814121717252\n",
      "  right:X_3 <= 19.0 ? 1814.8758311033089\n",
      "    left:X_1 <= 0.0 ? 117.28098480174958\n",
      "        left:313.8668784291077\n",
      "        right:345.2403623389862\n",
      "    right:X_3 <= 26.0 ? 629.8776861730075\n",
      "        left:276.45214727761453\n",
      "        right:226.1544692340486\n",
      " right:X_1 <= 2.0 ? 3679.5470389895054\n",
      "  left:X_3 <= 24.0 ? 2953.3052299923584\n",
      "    left:X_0 <= 3.0 ? 1753.3544999308651\n",
      "        left:376.2537113517134\n",
      "        right:519.7324067639564\n",
      "    right:X_3 <= 27.0 ? 904.2005926038546\n",
      "        left:417.157437567861\n",
      "        right:352.78049756934513\n",
      "  right:X_3 <= 24.0 ? 2762.339819645247\n",
      "    left:X_0 <= 5.0 ? 2880.372048208723\n",
      "        left:546.1350244681913\n",
      "        right:670.0392986900437\n",
      "    right:X_1 <= 3.0 ? 6066.2205873036\n",
      "        left:480.99713353760995\n",
      "        right:697.2113599126161\n"
     ]
    }
   ],
   "source": [
    "tree1 = DecisionTreeRegressor(min_samples_split=3, max_depth=3)\n",
    "tree1.fit(X_train,Y_train)\n",
    "tree1.print_tree()"
   ]
  },
  {
   "cell_type": "code",
   "execution_count": 60,
   "metadata": {},
   "outputs": [
    {
     "data": {
      "text/plain": [
       "243.78231022176737"
      ]
     },
     "execution_count": 60,
     "metadata": {},
     "output_type": "execute_result"
    }
   ],
   "source": [
    "Y_pred = tree1.predict(X_test)\n",
    "np.sqrt(mean_squared_error(Y_test, Y_pred))"
   ]
  },
  {
   "cell_type": "code",
   "execution_count": 61,
   "metadata": {},
   "outputs": [],
   "source": [
    "df2.drop(['n_amenities'], axis=1, inplace=True)"
   ]
  },
  {
   "cell_type": "code",
   "execution_count": 67,
   "metadata": {},
   "outputs": [
    {
     "data": {
      "text/html": [
       "<div>\n",
       "<style scoped>\n",
       "    .dataframe tbody tr th:only-of-type {\n",
       "        vertical-align: middle;\n",
       "    }\n",
       "\n",
       "    .dataframe tbody tr th {\n",
       "        vertical-align: top;\n",
       "    }\n",
       "\n",
       "    .dataframe thead th {\n",
       "        text-align: right;\n",
       "    }\n",
       "</style>\n",
       "<table border=\"1\" class=\"dataframe\">\n",
       "  <thead>\n",
       "    <tr style=\"text-align: right;\">\n",
       "      <th></th>\n",
       "      <th>accommodates</th>\n",
       "      <th>bedrooms</th>\n",
       "      <th>month</th>\n",
       "      <th>price</th>\n",
       "    </tr>\n",
       "  </thead>\n",
       "  <tbody>\n",
       "    <tr>\n",
       "      <th>0</th>\n",
       "      <td>5</td>\n",
       "      <td>2.0</td>\n",
       "      <td>8</td>\n",
       "      <td>307</td>\n",
       "    </tr>\n",
       "    <tr>\n",
       "      <th>1</th>\n",
       "      <td>2</td>\n",
       "      <td>1.0</td>\n",
       "      <td>8</td>\n",
       "      <td>233</td>\n",
       "    </tr>\n",
       "    <tr>\n",
       "      <th>2</th>\n",
       "      <td>3</td>\n",
       "      <td>1.0</td>\n",
       "      <td>8</td>\n",
       "      <td>159</td>\n",
       "    </tr>\n",
       "    <tr>\n",
       "      <th>3</th>\n",
       "      <td>3</td>\n",
       "      <td>1.0</td>\n",
       "      <td>8</td>\n",
       "      <td>253</td>\n",
       "    </tr>\n",
       "    <tr>\n",
       "      <th>4</th>\n",
       "      <td>3</td>\n",
       "      <td>1.0</td>\n",
       "      <td>8</td>\n",
       "      <td>350</td>\n",
       "    </tr>\n",
       "  </tbody>\n",
       "</table>\n",
       "</div>"
      ],
      "text/plain": [
       "   accommodates  bedrooms  month  price\n",
       "0             5       2.0      8    307\n",
       "1             2       1.0      8    233\n",
       "2             3       1.0      8    159\n",
       "3             3       1.0      8    253\n",
       "4             3       1.0      8    350"
      ]
     },
     "execution_count": 67,
     "metadata": {},
     "output_type": "execute_result"
    }
   ],
   "source": [
    "df2.head()"
   ]
  },
  {
   "cell_type": "code",
   "execution_count": 62,
   "metadata": {},
   "outputs": [],
   "source": [
    "X = df2.iloc[:, :-1].values\n",
    "Y = df2.iloc[:, -1].values.reshape(-1,1)\n",
    "X_train, X_test, Y_train, Y_test = train_test_split(X, Y, test_size=.4, random_state=41)"
   ]
  },
  {
   "cell_type": "code",
   "execution_count": 63,
   "metadata": {},
   "outputs": [
    {
     "name": "stdout",
     "output_type": "stream",
     "text": [
      "X_1 <= 1.0 ? 16828.614402433304\n",
      " left:X_0 <= 3.0 ? 1327.5191322163882\n",
      "  left:X_0 <= 1.0 ? 839.3328724079984\n",
      "    left:X_1 <= 0.0 ? 22.53936834070555\n",
      "        left:176.83479105928086\n",
      "        right:154.55615571776156\n",
      "    right:X_0 <= 2.0 ? 100.82173095826874\n",
      "        left:233.13362234483316\n",
      "        right:256.37642666993054\n",
      "  right:X_1 <= 0.0 ? 70.45834197183285\n",
      "    left:X_0 <= 5.0 ? 2812.694150718671\n",
      "        left:270.0005829204314\n",
      "        right:462.6391585760518\n",
      "    right:X_0 <= 9.0 ? 153.4499926219505\n",
      "        left:312.3471379633705\n",
      "        right:158.88985507246377\n",
      " right:X_1 <= 2.0 ? 3727.4475009007438\n",
      "  left:X_0 <= 3.0 ? 1451.8227513867896\n",
      "    left:X_0 <= 2.0 ? 2624.0433618628304\n",
      "        left:290.1622678396872\n",
      "        right:395.8418246445498\n",
      "    right:X_0 <= 5.0 ? 28.649596635688795\n",
      "        left:486.05039199417513\n",
      "        right:497.89248764832564\n",
      "  right:X_0 <= 2.0 ? 2361.4786694360373\n",
      "    left:X_1 <= 4.0 ? 551.5969939783972\n",
      "        left:253.7680412371134\n",
      "        right:185.3586956521739\n",
      "    right:X_1 <= 3.0 ? 2111.108654961703\n",
      "        left:599.8415448851774\n",
      "        right:739.0886368409998\n"
     ]
    }
   ],
   "source": [
    "tree2 = DecisionTreeRegressor(min_samples_split=3, max_depth=3)\n",
    "tree2.fit(X_train,Y_train)\n",
    "tree2.print_tree()"
   ]
  },
  {
   "cell_type": "code",
   "execution_count": 64,
   "metadata": {},
   "outputs": [
    {
     "data": {
      "text/plain": [
       "246.63553690774677"
      ]
     },
     "execution_count": 64,
     "metadata": {},
     "output_type": "execute_result"
    }
   ],
   "source": [
    "Y_pred = tree2.predict(X_test)\n",
    "np.sqrt(mean_squared_error(Y_test, Y_pred))\n"
   ]
  },
  {
   "cell_type": "code",
   "execution_count": 65,
   "metadata": {},
   "outputs": [
    {
     "name": "stdout",
     "output_type": "stream",
     "text": [
      "X_1 <= 1.0 ? 16828.614402433304\n",
      " left:X_0 <= 3.0 ? 1327.5191322163882\n",
      "  left:X_0 <= 1.0 ? 839.3328724079984\n",
      "    left:155.61851800361464\n",
      "    right:238.90393424441086\n",
      "  right:X_1 <= 0.0 ? 70.45834197183285\n",
      "    left:285.9164438502674\n",
      "    right:311.34058329214037\n",
      " right:X_1 <= 2.0 ? 3727.4475009007438\n",
      "  left:X_0 <= 3.0 ? 1451.8227513867896\n",
      "    left:355.96348210992255\n",
      "    right:489.43979791631415\n",
      "  right:X_0 <= 2.0 ? 2361.4786694360373\n",
      "    left:244.43026706231453\n",
      "    right:617.1551539526259\n"
     ]
    }
   ],
   "source": [
    "tree3 = DecisionTreeRegressor(min_samples_split=3, max_depth=2)\n",
    "tree3.fit(X_train,Y_train)\n",
    "tree3.print_tree()"
   ]
  },
  {
   "cell_type": "code",
   "execution_count": 66,
   "metadata": {},
   "outputs": [
    {
     "data": {
      "text/plain": [
       "247.56430977352338"
      ]
     },
     "execution_count": 66,
     "metadata": {},
     "output_type": "execute_result"
    }
   ],
   "source": [
    "Y_pred = tree3.predict(X_test)\n",
    "np.sqrt(mean_squared_error(Y_test, Y_pred))"
   ]
  },
  {
   "cell_type": "code",
   "execution_count": 88,
   "metadata": {},
   "outputs": [],
   "source": [
    "data = df.reindex(['property_type','accommodates','bedrooms','month','n_amenities','price'],axis=1)"
   ]
  },
  {
   "cell_type": "code",
   "execution_count": 89,
   "metadata": {},
   "outputs": [
    {
     "data": {
      "text/html": [
       "<div>\n",
       "<style scoped>\n",
       "    .dataframe tbody tr th:only-of-type {\n",
       "        vertical-align: middle;\n",
       "    }\n",
       "\n",
       "    .dataframe tbody tr th {\n",
       "        vertical-align: top;\n",
       "    }\n",
       "\n",
       "    .dataframe thead th {\n",
       "        text-align: right;\n",
       "    }\n",
       "</style>\n",
       "<table border=\"1\" class=\"dataframe\">\n",
       "  <thead>\n",
       "    <tr style=\"text-align: right;\">\n",
       "      <th></th>\n",
       "      <th>property_type</th>\n",
       "      <th>accommodates</th>\n",
       "      <th>bedrooms</th>\n",
       "      <th>month</th>\n",
       "      <th>n_amenities</th>\n",
       "      <th>price</th>\n",
       "    </tr>\n",
       "  </thead>\n",
       "  <tbody>\n",
       "    <tr>\n",
       "      <th>0</th>\n",
       "      <td>Condominium</td>\n",
       "      <td>5</td>\n",
       "      <td>2.0</td>\n",
       "      <td>8</td>\n",
       "      <td>26.0</td>\n",
       "      <td>307</td>\n",
       "    </tr>\n",
       "    <tr>\n",
       "      <th>1</th>\n",
       "      <td>Apartment</td>\n",
       "      <td>2</td>\n",
       "      <td>1.0</td>\n",
       "      <td>8</td>\n",
       "      <td>21.0</td>\n",
       "      <td>233</td>\n",
       "    </tr>\n",
       "    <tr>\n",
       "      <th>2</th>\n",
       "      <td>Apartment</td>\n",
       "      <td>3</td>\n",
       "      <td>1.0</td>\n",
       "      <td>8</td>\n",
       "      <td>15.0</td>\n",
       "      <td>159</td>\n",
       "    </tr>\n",
       "    <tr>\n",
       "      <th>3</th>\n",
       "      <td>Apartment</td>\n",
       "      <td>3</td>\n",
       "      <td>1.0</td>\n",
       "      <td>8</td>\n",
       "      <td>18.0</td>\n",
       "      <td>253</td>\n",
       "    </tr>\n",
       "    <tr>\n",
       "      <th>4</th>\n",
       "      <td>Apartment</td>\n",
       "      <td>3</td>\n",
       "      <td>1.0</td>\n",
       "      <td>8</td>\n",
       "      <td>32.0</td>\n",
       "      <td>350</td>\n",
       "    </tr>\n",
       "  </tbody>\n",
       "</table>\n",
       "</div>"
      ],
      "text/plain": [
       "  property_type  accommodates  bedrooms  month  n_amenities  price\n",
       "0   Condominium             5       2.0      8         26.0    307\n",
       "1     Apartment             2       1.0      8         21.0    233\n",
       "2     Apartment             3       1.0      8         15.0    159\n",
       "3     Apartment             3       1.0      8         18.0    253\n",
       "4     Apartment             3       1.0      8         32.0    350"
      ]
     },
     "execution_count": 89,
     "metadata": {},
     "output_type": "execute_result"
    }
   ],
   "source": [
    "data.head()\n"
   ]
  },
  {
   "cell_type": "code",
   "execution_count": 116,
   "metadata": {},
   "outputs": [
    {
     "name": "stderr",
     "output_type": "stream",
     "text": [
      "C:\\Users\\HK\\anaconda3\\lib\\site-packages\\IPython\\core\\interactiveshell.py:3146: DtypeWarning: Columns (54) have mixed types.Specify dtype option on import or set low_memory=False.\n",
      "  has_raised = await self.run_ast_nodes(code_ast.body, cell_name,\n"
     ]
    }
   ],
   "source": [
    "data = pd.read_csv(r\"D:\\total_data.csv\", index_col=False, usecols=[ 'accommodates', 'bathrooms', 'bedrooms', 'beds',\n",
    "       'amenities', 'month', 'price'])"
   ]
  },
  {
   "cell_type": "code",
   "execution_count": 121,
   "metadata": {},
   "outputs": [
    {
     "data": {
      "text/plain": [
       "accommodates     object\n",
       "bathrooms       float64\n",
       "bedrooms        float64\n",
       "beds            float64\n",
       "amenities        object\n",
       "price           float32\n",
       "month           float64\n",
       "dtype: object"
      ]
     },
     "execution_count": 121,
     "metadata": {},
     "output_type": "execute_result"
    }
   ],
   "source": [
    "\n",
    "data.dtypes"
   ]
  },
  {
   "cell_type": "code",
   "execution_count": 122,
   "metadata": {},
   "outputs": [
    {
     "data": {
      "text/plain": [
       "array([  307.,   233.,   159., ...,  7186.,  4756., 12096.], dtype=float32)"
      ]
     },
     "execution_count": 122,
     "metadata": {},
     "output_type": "execute_result"
    }
   ],
   "source": [
    "data['price'].unique()"
   ]
  },
  {
   "cell_type": "code",
   "execution_count": 123,
   "metadata": {},
   "outputs": [],
   "source": [
    "data['accommodates'] = data['accommodates'].astype(np.int16, copy=False)"
   ]
  },
  {
   "cell_type": "code",
   "execution_count": 124,
   "metadata": {},
   "outputs": [
    {
     "data": {
      "text/plain": [
       "accommodates      int16\n",
       "bathrooms       float64\n",
       "bedrooms        float64\n",
       "beds            float64\n",
       "amenities        object\n",
       "price           float32\n",
       "month           float64\n",
       "dtype: object"
      ]
     },
     "execution_count": 124,
     "metadata": {},
     "output_type": "execute_result"
    }
   ],
   "source": [
    "data.dtypes"
   ]
  },
  {
   "cell_type": "code",
   "execution_count": 125,
   "metadata": {},
   "outputs": [],
   "source": [
    "data.drop(['amenities'], axis=1, inplace=True)"
   ]
  },
  {
   "cell_type": "code",
   "execution_count": 128,
   "metadata": {},
   "outputs": [
    {
     "data": {
      "text/plain": [
       "accommodates    0\n",
       "bathrooms       0\n",
       "bedrooms        0\n",
       "beds            0\n",
       "price           0\n",
       "month           0\n",
       "dtype: int64"
      ]
     },
     "execution_count": 128,
     "metadata": {},
     "output_type": "execute_result"
    }
   ],
   "source": [
    "data.isnull().sum()\n"
   ]
  },
  {
   "cell_type": "code",
   "execution_count": 129,
   "metadata": {},
   "outputs": [],
   "source": [
    "dataset = data.reindex(['bathrooms','accommodates','bedrooms','month','beds','price'],axis=1)"
   ]
  },
  {
   "cell_type": "code",
   "execution_count": 130,
   "metadata": {},
   "outputs": [
    {
     "data": {
      "text/html": [
       "<div>\n",
       "<style scoped>\n",
       "    .dataframe tbody tr th:only-of-type {\n",
       "        vertical-align: middle;\n",
       "    }\n",
       "\n",
       "    .dataframe tbody tr th {\n",
       "        vertical-align: top;\n",
       "    }\n",
       "\n",
       "    .dataframe thead th {\n",
       "        text-align: right;\n",
       "    }\n",
       "</style>\n",
       "<table border=\"1\" class=\"dataframe\">\n",
       "  <thead>\n",
       "    <tr style=\"text-align: right;\">\n",
       "      <th></th>\n",
       "      <th>bathrooms</th>\n",
       "      <th>accommodates</th>\n",
       "      <th>bedrooms</th>\n",
       "      <th>month</th>\n",
       "      <th>beds</th>\n",
       "      <th>price</th>\n",
       "    </tr>\n",
       "  </thead>\n",
       "  <tbody>\n",
       "    <tr>\n",
       "      <th>0</th>\n",
       "      <td>1.0</td>\n",
       "      <td>5</td>\n",
       "      <td>2.0</td>\n",
       "      <td>8.0</td>\n",
       "      <td>2.0</td>\n",
       "      <td>307.0</td>\n",
       "    </tr>\n",
       "    <tr>\n",
       "      <th>1</th>\n",
       "      <td>1.0</td>\n",
       "      <td>2</td>\n",
       "      <td>1.0</td>\n",
       "      <td>8.0</td>\n",
       "      <td>1.0</td>\n",
       "      <td>233.0</td>\n",
       "    </tr>\n",
       "    <tr>\n",
       "      <th>2</th>\n",
       "      <td>1.0</td>\n",
       "      <td>3</td>\n",
       "      <td>1.0</td>\n",
       "      <td>8.0</td>\n",
       "      <td>2.0</td>\n",
       "      <td>159.0</td>\n",
       "    </tr>\n",
       "    <tr>\n",
       "      <th>3</th>\n",
       "      <td>1.0</td>\n",
       "      <td>3</td>\n",
       "      <td>1.0</td>\n",
       "      <td>8.0</td>\n",
       "      <td>2.0</td>\n",
       "      <td>253.0</td>\n",
       "    </tr>\n",
       "    <tr>\n",
       "      <th>4</th>\n",
       "      <td>1.5</td>\n",
       "      <td>3</td>\n",
       "      <td>1.0</td>\n",
       "      <td>8.0</td>\n",
       "      <td>2.0</td>\n",
       "      <td>350.0</td>\n",
       "    </tr>\n",
       "  </tbody>\n",
       "</table>\n",
       "</div>"
      ],
      "text/plain": [
       "   bathrooms  accommodates  bedrooms  month  beds  price\n",
       "0        1.0             5       2.0    8.0   2.0  307.0\n",
       "1        1.0             2       1.0    8.0   1.0  233.0\n",
       "2        1.0             3       1.0    8.0   2.0  159.0\n",
       "3        1.0             3       1.0    8.0   2.0  253.0\n",
       "4        1.5             3       1.0    8.0   2.0  350.0"
      ]
     },
     "execution_count": 130,
     "metadata": {},
     "output_type": "execute_result"
    }
   ],
   "source": [
    "dataset.head()\n"
   ]
  },
  {
   "cell_type": "code",
   "execution_count": 135,
   "metadata": {},
   "outputs": [],
   "source": [
    "#dataset = dataset[dataset['price'] <= outlier_limit('price')]\n",
    "#dataset = dataset[dataset['bedrooms'] <= outlier_limit('bedrooms')]\n",
    "\n",
    "#dataset = dataset[dataset['bathrooms'] <= outlier_limit('bathrooms')]"
   ]
  },
  {
   "cell_type": "code",
   "execution_count": 136,
   "metadata": {},
   "outputs": [],
   "source": [
    "X = dataset.iloc[:, :-1].values\n",
    "Y = dataset.iloc[:, -1].values.reshape(-1,1)\n",
    "X_train, X_test, Y_train, Y_test = train_test_split(X, Y, test_size=.4, random_state=41)"
   ]
  },
  {
   "cell_type": "code",
   "execution_count": 137,
   "metadata": {},
   "outputs": [
    {
     "name": "stdout",
     "output_type": "stream",
     "text": [
      "X_2 <= 1.0 ? 8894.554261022917\n",
      " left:X_1 <= 1.0 ? 757.8598165406765\n",
      "  left:X_0 <= 1.0 ? 126.6566725101984\n",
      "    left:152.10482089954215\n",
      "    right:125.23720418271877\n",
      "  right:X_1 <= 3.0 ? 459.250724539299\n",
      "    left:223.90636079249217\n",
      "    right:269.1630208537878\n",
      " right:X_0 <= 1.5 ? 2002.1708851420553\n",
      "  left:X_1 <= 3.0 ? 1035.1983954474854\n",
      "    left:265.75496098104793\n",
      "    right:369.64026633017426\n",
      "  right:X_0 <= 2.0 ? 746.888389583306\n",
      "    left:437.7634086780428\n",
      "    right:496.7538264468239\n"
     ]
    }
   ],
   "source": [
    "TREE = DecisionTreeRegressor(min_samples_split=3, max_depth=2)\n",
    "TREE.fit(X_train,Y_train)\n",
    "TREE.print_tree()"
   ]
  },
  {
   "cell_type": "code",
   "execution_count": 138,
   "metadata": {},
   "outputs": [
    {
     "data": {
      "text/plain": [
       "188.75334461686515"
      ]
     },
     "execution_count": 138,
     "metadata": {},
     "output_type": "execute_result"
    }
   ],
   "source": [
    "Y_pred = TREE.predict(X_test) \n",
    "from sklearn.metrics import mean_squared_error\n",
    "np.sqrt(mean_squared_error(Y_test, Y_pred))"
   ]
  },
  {
   "cell_type": "code",
   "execution_count": null,
   "metadata": {},
   "outputs": [],
   "source": []
  }
 ],
 "metadata": {
  "kernelspec": {
   "display_name": "Python 3",
   "language": "python",
   "name": "python3"
  },
  "language_info": {
   "codemirror_mode": {
    "name": "ipython",
    "version": 3
   },
   "file_extension": ".py",
   "mimetype": "text/x-python",
   "name": "python",
   "nbconvert_exporter": "python",
   "pygments_lexer": "ipython3",
   "version": "3.8.5"
  }
 },
 "nbformat": 4,
 "nbformat_minor": 4
}
